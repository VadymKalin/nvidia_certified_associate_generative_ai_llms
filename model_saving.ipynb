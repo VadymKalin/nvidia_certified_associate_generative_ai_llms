{
  "nbformat": 4,
  "nbformat_minor": 0,
  "metadata": {
    "colab": {
      "provenance": [],
      "authorship_tag": "ABX9TyPxXD0hIM4S6yfdR5uq5VpV",
      "include_colab_link": true
    },
    "kernelspec": {
      "name": "python3",
      "display_name": "Python 3"
    },
    "language_info": {
      "name": "python"
    }
  },
  "cells": [
    {
      "cell_type": "markdown",
      "metadata": {
        "id": "view-in-github",
        "colab_type": "text"
      },
      "source": [
        "<a href=\"https://colab.research.google.com/github/VadymKalin/nvidia_certified_associate_generative_ai_llms/blob/main/model_saving.ipynb\" target=\"_parent\"><img src=\"https://colab.research.google.com/assets/colab-badge.svg\" alt=\"Open In Colab\"/></a>"
      ]
    },
    {
      "cell_type": "code",
      "execution_count": 2,
      "metadata": {
        "id": "QRcaawMyYBlu"
      },
      "outputs": [],
      "source": [
        "import sys\n",
        "import os\n",
        "import pandas as pd\n",
        "import torch\n",
        "from torch import nn\n",
        "\n",
        "# Pandas: Reading the data\n",
        "df = pd.read_csv(\"./data/used_cars.csv\")\n",
        "\n",
        "# Pandas: Preparing the data\n",
        "age = df[\"model_year\"].max() - df[\"model_year\"]\n",
        "\n",
        "milage = df[\"milage\"]\n",
        "milage = milage.str.replace(\",\", \"\")\n",
        "milage = milage.str.replace(\" mi.\", \"\")\n",
        "milage = milage.astype(int)\n",
        "\n",
        "price = df[\"price\"]\n",
        "price = price.str.replace(\"$\", \"\")\n",
        "price = price.str.replace(\",\", \"\")\n",
        "price = price.astype(int)\n",
        "\n",
        "if not os.path.isdir(\"./model\"):\n",
        "    os.mkdir(\"./model\")\n",
        "\n",
        "# Torch: Creating X and y data (as tensors)\n",
        "X = torch.column_stack([\n",
        "    torch.tensor(age, dtype=torch.float32),\n",
        "    torch.tensor(milage, dtype=torch.float32)\n",
        "])\n",
        "X_mean = X.mean(axis=0)\n",
        "X_std = X.std(axis=0)\n",
        "torch.save(X_mean, \"./model/X_mean.pt\")\n",
        "torch.save(X_std, \"./model/X_std.pt\")\n",
        "X = (X - X_mean) / X_std\n",
        "\n",
        "y = torch.tensor(price, dtype=torch.float32)\\\n",
        "    .reshape((-1, 1))\n",
        "y_mean = y.mean()\n",
        "y_std = y.std()\n",
        "torch.save(y_mean, \"./model/y_mean.pt\")\n",
        "torch.save(y_std, \"./model/y_std.pt\")\n",
        "y = (y - y_mean) / y_std\n",
        "# sys.exit()\n",
        "\n",
        "\n",
        "model = nn.Linear(2, 1)\n",
        "loss_fn = torch.nn.MSELoss()\n",
        "optimizer = torch.optim.SGD(model.parameters(), lr=0.01)\n",
        "\n",
        "for i in range(0, 2500):\n",
        "    # Training pass\n",
        "    optimizer.zero_grad()\n",
        "    outputs = model(X)\n",
        "    loss = loss_fn(outputs, y)\n",
        "    loss.backward()\n",
        "    optimizer.step()\n",
        "\n",
        "    #if i % 100 == 0:\n",
        "    #    print(loss)\n",
        "\n",
        "torch.save(model.state_dict(), \"./model/model.pt\")"
      ]
    }
  ]
}